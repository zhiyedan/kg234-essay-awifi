{
 "cells": [
  {
   "cell_type": "code",
   "execution_count": 15,
   "metadata": {},
   "outputs": [],
   "source": [
    "import warnings\n",
    "warnings.filterwarnings('ignore')\n",
    "from math import sqrt\n",
    "import pandas as pd\n",
    "import numpy as np\n",
    "import time\n",
    "import datetime\n",
    "import matplotlib.pyplot as plt\n",
    "from sklearn.metrics import mean_squared_error"
   ]
  },
  {
   "cell_type": "code",
   "execution_count": 2,
   "metadata": {},
   "outputs": [],
   "source": [
    "df = pd.read_csv(\"../data/one_train_denoised.csv\",sep=',')\n",
    "df['timestamp'] = pd.to_datetime(df.timestamp)"
   ]
  },
  {
   "cell_type": "code",
   "execution_count": 18,
   "metadata": {},
   "outputs": [],
   "source": [
    "df['weekday'] = df.timestamp.apply(lambda x: x.isoweekday())\n",
    "df['time'] = df.timestamp.apply(lambda x: x.timetuple())\n",
    "df['timestamp_int'] = df.time.apply(lambda x: int(time.mktime(x)))\n",
    "df['day'] = df.time.apply(lambda x: x.tm_mday)\n",
    "df['hour'] = df.time.apply(lambda x: x.tm_hour)\n",
    "df['minute'] = df.time.apply(lambda x: x.tm_min)\n",
    "df['pre_1minute'] = df.value.shift(1)\n",
    "df['pre_2minute'] = df.value.shift(2)\n",
    "df['pre_3minute'] = df.value.shift(3)\n",
    "df['pre_4minute'] = df.value.shift(4)\n",
    "df['pre_5minute'] = df.value.shift(5)\n",
    "df['pre_1day'] = df.value.shift(60*24)\n",
    "df['pre_1week'] = df.value.shift(7*60*24)"
   ]
  },
  {
   "cell_type": "code",
   "execution_count": 29,
   "metadata": {},
   "outputs": [
    {
     "data": {
      "text/html": [
       "<div>\n",
       "<style scoped>\n",
       "    .dataframe tbody tr th:only-of-type {\n",
       "        vertical-align: middle;\n",
       "    }\n",
       "\n",
       "    .dataframe tbody tr th {\n",
       "        vertical-align: top;\n",
       "    }\n",
       "\n",
       "    .dataframe thead th {\n",
       "        text-align: right;\n",
       "    }\n",
       "</style>\n",
       "<table border=\"1\" class=\"dataframe\">\n",
       "  <thead>\n",
       "    <tr style=\"text-align: right;\">\n",
       "      <th></th>\n",
       "      <th>timestamp</th>\n",
       "      <th>value</th>\n",
       "      <th>label</th>\n",
       "      <th>weekday</th>\n",
       "      <th>day</th>\n",
       "      <th>hour</th>\n",
       "      <th>minute</th>\n",
       "      <th>timestamp_int</th>\n",
       "      <th>pre_1minute</th>\n",
       "      <th>pre_2minute</th>\n",
       "      <th>pre_3minute</th>\n",
       "      <th>pre_4minute</th>\n",
       "      <th>pre_5minute</th>\n",
       "      <th>pre_1day</th>\n",
       "    </tr>\n",
       "  </thead>\n",
       "  <tbody>\n",
       "    <tr>\n",
       "      <th>10080</th>\n",
       "      <td>2017-05-08 04:06:00</td>\n",
       "      <td>2.508197</td>\n",
       "      <td>0</td>\n",
       "      <td>1</td>\n",
       "      <td>8</td>\n",
       "      <td>4</td>\n",
       "      <td>6</td>\n",
       "      <td>1494187560</td>\n",
       "      <td>2.737705</td>\n",
       "      <td>2.918033</td>\n",
       "      <td>3.032787</td>\n",
       "      <td>2.786885</td>\n",
       "      <td>2.918033</td>\n",
       "      <td>2.344262</td>\n",
       "    </tr>\n",
       "    <tr>\n",
       "      <th>10081</th>\n",
       "      <td>2017-05-08 04:07:00</td>\n",
       "      <td>2.885246</td>\n",
       "      <td>0</td>\n",
       "      <td>1</td>\n",
       "      <td>8</td>\n",
       "      <td>4</td>\n",
       "      <td>7</td>\n",
       "      <td>1494187620</td>\n",
       "      <td>2.508197</td>\n",
       "      <td>2.737705</td>\n",
       "      <td>2.918033</td>\n",
       "      <td>3.032787</td>\n",
       "      <td>2.786885</td>\n",
       "      <td>2.344262</td>\n",
       "    </tr>\n",
       "    <tr>\n",
       "      <th>10082</th>\n",
       "      <td>2017-05-08 04:08:00</td>\n",
       "      <td>2.803279</td>\n",
       "      <td>0</td>\n",
       "      <td>1</td>\n",
       "      <td>8</td>\n",
       "      <td>4</td>\n",
       "      <td>8</td>\n",
       "      <td>1494187680</td>\n",
       "      <td>2.885246</td>\n",
       "      <td>2.508197</td>\n",
       "      <td>2.737705</td>\n",
       "      <td>2.918033</td>\n",
       "      <td>3.032787</td>\n",
       "      <td>2.524590</td>\n",
       "    </tr>\n",
       "    <tr>\n",
       "      <th>10083</th>\n",
       "      <td>2017-05-08 04:09:00</td>\n",
       "      <td>2.868852</td>\n",
       "      <td>0</td>\n",
       "      <td>1</td>\n",
       "      <td>8</td>\n",
       "      <td>4</td>\n",
       "      <td>9</td>\n",
       "      <td>1494187740</td>\n",
       "      <td>2.803279</td>\n",
       "      <td>2.885246</td>\n",
       "      <td>2.508197</td>\n",
       "      <td>2.737705</td>\n",
       "      <td>2.918033</td>\n",
       "      <td>2.409836</td>\n",
       "    </tr>\n",
       "    <tr>\n",
       "      <th>10084</th>\n",
       "      <td>2017-05-08 04:10:00</td>\n",
       "      <td>2.770492</td>\n",
       "      <td>0</td>\n",
       "      <td>1</td>\n",
       "      <td>8</td>\n",
       "      <td>4</td>\n",
       "      <td>10</td>\n",
       "      <td>1494187800</td>\n",
       "      <td>2.868852</td>\n",
       "      <td>2.803279</td>\n",
       "      <td>2.885246</td>\n",
       "      <td>2.508197</td>\n",
       "      <td>2.737705</td>\n",
       "      <td>2.606557</td>\n",
       "    </tr>\n",
       "  </tbody>\n",
       "</table>\n",
       "</div>"
      ],
      "text/plain": [
       "                timestamp     value  label  weekday  day  hour  minute  \\\n",
       "10080 2017-05-08 04:06:00  2.508197      0        1    8     4       6   \n",
       "10081 2017-05-08 04:07:00  2.885246      0        1    8     4       7   \n",
       "10082 2017-05-08 04:08:00  2.803279      0        1    8     4       8   \n",
       "10083 2017-05-08 04:09:00  2.868852      0        1    8     4       9   \n",
       "10084 2017-05-08 04:10:00  2.770492      0        1    8     4      10   \n",
       "\n",
       "       timestamp_int  pre_1minute  pre_2minute  pre_3minute  pre_4minute  \\\n",
       "10080     1494187560     2.737705     2.918033     3.032787     2.786885   \n",
       "10081     1494187620     2.508197     2.737705     2.918033     3.032787   \n",
       "10082     1494187680     2.885246     2.508197     2.737705     2.918033   \n",
       "10083     1494187740     2.803279     2.885246     2.508197     2.737705   \n",
       "10084     1494187800     2.868852     2.803279     2.885246     2.508197   \n",
       "\n",
       "       pre_5minute  pre_1day  \n",
       "10080     2.918033  2.344262  \n",
       "10081     2.786885  2.344262  \n",
       "10082     3.032787  2.524590  \n",
       "10083     2.918033  2.409836  \n",
       "10084     2.737705  2.606557  "
      ]
     },
     "execution_count": 29,
     "metadata": {},
     "output_type": "execute_result"
    }
   ],
   "source": [
    "feature_df = df[7*60*24:]\n",
    "feature_df.drop(['time','pre_1week'],axis=1,inplace=True)\n",
    "feature_df.head()"
   ]
  },
  {
   "cell_type": "code",
   "execution_count": 30,
   "metadata": {},
   "outputs": [],
   "source": [
    "feature_df.to_csv(\"../data/feature_1.csv\")"
   ]
  },
  {
   "cell_type": "code",
   "execution_count": 27,
   "metadata": {},
   "outputs": [
    {
     "data": {
      "text/plain": [
       "118481"
      ]
     },
     "execution_count": 27,
     "metadata": {},
     "output_type": "execute_result"
    }
   ],
   "source": [
    "128561-10080"
   ]
  },
  {
   "cell_type": "code",
   "execution_count": 28,
   "metadata": {},
   "outputs": [
    {
     "data": {
      "text/plain": [
       "121468.0"
      ]
     },
     "execution_count": 28,
     "metadata": {},
     "output_type": "execute_result"
    }
   ],
   "source": [
    "(1501475640-1494187560)/60"
   ]
  }
 ],
 "metadata": {
  "kernelspec": {
   "display_name": "Python 3",
   "language": "python",
   "name": "python3"
  },
  "language_info": {
   "codemirror_mode": {
    "name": "ipython",
    "version": 3
   },
   "file_extension": ".py",
   "mimetype": "text/x-python",
   "name": "python",
   "nbconvert_exporter": "python",
   "pygments_lexer": "ipython3",
   "version": "3.6.1"
  }
 },
 "nbformat": 4,
 "nbformat_minor": 2
}
