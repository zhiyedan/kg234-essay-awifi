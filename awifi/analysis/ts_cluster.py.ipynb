{
 "cells": [
  {
   "cell_type": "code",
   "execution_count": null,
   "metadata": {},
   "outputs": [],
   "source": [
    "from tslearn.preprocessing import TimeSeriesScalerMeanVariance\n",
    "from tslearn.clustering import KShape\n",
    "from tslearn.clustering import GlobalAlignmentKernelKMeans\n",
    "from tslearn.clustering import TimeSeriesKMeans\n",
    "import numpy as np\n",
    "    \n",
    "\n",
    "def get_normal_tslearn_data(df):\n",
    "    ts_value = df.T.values\n",
    "    ts_value = ts_value.reshape(ts_value.shape[0],ts_value.shape[1],1)\n",
    "    scaler = TimeSeriesScalerMeanVariance(mu=0., std=1.)\n",
    "    data_scaled = scaler.fit_transform(ts_value)\n",
    "    data_scaled = np.nan_to_num(data_scaled)\n",
    "    return data_scaled\n",
    "\n",
    "def get_one_lable_index(labels,class1):\n",
    "    lab_1 = []\n",
    "    for i in range(len(labels)):\n",
    "        if(labels[i] == class1):\n",
    "            lab_1.append(i)\n",
    "    return lab_1\n",
    "\n",
    "def kshape(data_scaled,center=10):\n",
    "    ks = KShape(n_clusters=center, n_init=1, verbose=False, random_state=0).fit(data_scaled)\n",
    "    return ks\n",
    "\n",
    "def GAK_km(data_scaled,center=10):\n",
    "    gak_km = GlobalAlignmentKernelKMeans(n_clusters=center, verbose=False, random_state=0).fit(data_scaled)\n",
    "    return gak_km\n",
    "\n",
    "def TSKMeans(data_scaled,center=10):\n",
    "    km = TimeSeriesKMeans(n_clusters=center, metric=\"softdtw\", max_iter=5, verbose=False, random_state=0).fit(data_scaled)\n",
    "    return km\n",
    "\n",
    "def exampleTSMeans(df,center=10,class1=0):\n",
    "    data_scaled = get_normal_tslearn_data(df)\n",
    "    km = TSKMeans(data_scaled,center)\n",
    "    lab_1 = get_one_lable_index(km.labels_,class1)\n",
    "    return lab_1"
   ]
  }
 ],
 "metadata": {
  "kernelspec": {
   "display_name": "Python 3",
   "language": "python",
   "name": "python3"
  },
  "language_info": {
   "codemirror_mode": {
    "name": "ipython",
    "version": 3
   },
   "file_extension": ".py",
   "mimetype": "text/x-python",
   "name": "python",
   "nbconvert_exporter": "python",
   "pygments_lexer": "ipython3",
   "version": "3.6.1"
  }
 },
 "nbformat": 4,
 "nbformat_minor": 2
}
