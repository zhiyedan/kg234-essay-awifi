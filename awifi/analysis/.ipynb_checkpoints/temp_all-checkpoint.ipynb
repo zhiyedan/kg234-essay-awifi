{
 "cells": [
  {
   "cell_type": "code",
   "execution_count": 1,
   "metadata": {},
   "outputs": [],
   "source": [
    "import my_util\n",
    "import numpy as np\n",
    "import matplotlib.pyplot as plt\n",
    "import math\n",
    "import pandas as pd\n",
    "import time"
   ]
  },
  {
   "cell_type": "code",
   "execution_count": 2,
   "metadata": {},
   "outputs": [
    {
     "name": "stdout",
     "output_type": "stream",
     "text": [
      "<class 'pandas.core.frame.DataFrame'>\n",
      "RangeIndex: 359312 entries, 0 to 359311\n",
      "Data columns (total 3 columns):\n",
      "ap_mac    359312 non-null object\n",
      "time      359312 non-null int64\n",
      "count     359312 non-null int64\n",
      "dtypes: int64(2), object(1)\n",
      "memory usage: 8.2+ MB\n"
     ]
    }
   ],
   "source": [
    "df = pd.read_csv('../data/awifi-zhongxintong-4month-data.log',sep='\\t',header=None,names=['ap_mac','time','count'])\n",
    "df.head()\n",
    "df.info()"
   ]
  },
  {
   "cell_type": "code",
   "execution_count": 3,
   "metadata": {},
   "outputs": [
    {
     "name": "stdout",
     "output_type": "stream",
     "text": [
      "<class 'pandas.core.frame.DataFrame'>\n",
      "Int64Index: 233403 entries, 1 to 359311\n",
      "Data columns (total 3 columns):\n",
      "ap_mac    233403 non-null object\n",
      "time      233403 non-null int64\n",
      "count     233403 non-null int64\n",
      "dtypes: int64(2), object(1)\n",
      "memory usage: 7.1+ MB\n"
     ]
    }
   ],
   "source": [
    "def filt_date(df,start_time=1517414400,end_time=1522512000):\n",
    "    df =df[(df.time>=start_time) & (df.time<=end_time)]\n",
    "    return df\n",
    "filt_date_df = filt_date(df)\n",
    "filt_date_df.info()"
   ]
  },
  {
   "cell_type": "code",
   "execution_count": 4,
   "metadata": {},
   "outputs": [
    {
     "name": "stdout",
     "output_type": "stream",
     "text": [
      "count    3224.000000\n",
      "mean       72.395471\n",
      "std        82.481369\n",
      "min         1.000000\n",
      "25%        17.000000\n",
      "50%        45.000000\n",
      "75%        97.000000\n",
      "max       666.000000\n",
      "Name: ap_mac, dtype: float64\n"
     ]
    }
   ],
   "source": [
    "macs = filt_date_df.ap_mac.unique()\n",
    "# 自带升序\n",
    "mac_count = pd.Series(filt_date_df.ap_mac).value_counts()\n",
    "print(mac_count.describe())"
   ]
  },
  {
   "cell_type": "code",
   "execution_count": 5,
   "metadata": {},
   "outputs": [
    {
     "data": {
      "image/png": "[encoded data removed]",
      "text/plain": [
       "<matplotlib.figure.Figure at 0x7fd88f5999b0>"
      ]
     },
     "metadata": {},
     "output_type": "display_data"
    }
   ],
   "source": [
    "mac_count.plot(grid=True,kind='kde')\n",
    "plt.legend(loc='best')\n",
    "plt.show()"
   ]
  },
  {
   "cell_type": "code",
   "execution_count": 6,
   "metadata": {},
   "outputs": [],
   "source": [
    "mac_filter_200 = mac_count[mac_count>100]\n",
    "list1 = list(mac_filter_200.index)"
   ]
  },
  {
   "cell_type": "code",
   "execution_count": 11,
   "metadata": {},
   "outputs": [
    {
     "ename": "ValueError",
     "evalue": "The truth value of a Series is ambiguous. Use a.empty, a.bool(), a.item(), a.any() or a.all().",
     "output_type": "error",
     "traceback": [
      "\u001b[0;31m---------------------------------------------------------------------------\u001b[0m",
      "\u001b[0;31mValueError\u001b[0m                                Traceback (most recent call last)",
      "\u001b[0;32m<ipython-input-11-cbb3b3f9c799>\u001b[0m in \u001b[0;36m<module>\u001b[0;34m()\u001b[0m\n\u001b[0;32m----> 1\u001b[0;31m \u001b[0;34m(\u001b[0m\u001b[0mdf\u001b[0m\u001b[0;34m[\u001b[0m\u001b[0;34m'ap_mac'\u001b[0m\u001b[0;34m]\u001b[0m \u001b[0;32min\u001b[0m \u001b[0;34m[\u001b[0m\u001b[0;34m'mac1'\u001b[0m\u001b[0;34m,\u001b[0m\u001b[0;34m'mac2'\u001b[0m\u001b[0;34m]\u001b[0m\u001b[0;34m)\u001b[0m\u001b[0;34m\u001b[0m\u001b[0m\n\u001b[0m",
      "\u001b[0;32m/usr/share/anaconda3/lib/python3.6/site-packages/pandas/core/generic.py\u001b[0m in \u001b[0;36m__nonzero__\u001b[0;34m(self)\u001b[0m\n\u001b[1;32m   1119\u001b[0m         raise ValueError(\"The truth value of a {0} is ambiguous. \"\n\u001b[1;32m   1120\u001b[0m                          \u001b[0;34m\"Use a.empty, a.bool(), a.item(), a.any() or a.all().\"\u001b[0m\u001b[0;34m\u001b[0m\u001b[0m\n\u001b[0;32m-> 1121\u001b[0;31m                          .format(self.__class__.__name__))\n\u001b[0m\u001b[1;32m   1122\u001b[0m \u001b[0;34m\u001b[0m\u001b[0m\n\u001b[1;32m   1123\u001b[0m     \u001b[0m__bool__\u001b[0m \u001b[0;34m=\u001b[0m \u001b[0m__nonzero__\u001b[0m\u001b[0;34m\u001b[0m\u001b[0m\n",
      "\u001b[0;31mValueError\u001b[0m: The truth value of a Series is ambiguous. Use a.empty, a.bool(), a.item(), a.any() or a.all()."
     ]
    }
   ],
   "source": [
    "df['ap_mac'] in ['mac1','mac2']"
   ]
  },
  {
   "cell_type": "code",
   "execution_count": 8,
   "metadata": {},
   "outputs": [
    {
     "data": {
      "text/html": [
       "<div>\n",
       "<style scoped>\n",
       "    .dataframe tbody tr th:only-of-type {\n",
       "        vertical-align: middle;\n",
       "    }\n",
       "\n",
       "    .dataframe tbody tr th {\n",
       "        vertical-align: top;\n",
       "    }\n",
       "\n",
       "    .dataframe thead th {\n",
       "        text-align: right;\n",
       "    }\n",
       "</style>\n",
       "<table border=\"1\" class=\"dataframe\">\n",
       "  <thead>\n",
       "    <tr style=\"text-align: right;\">\n",
       "      <th></th>\n",
       "      <th>ap_mac</th>\n",
       "      <th>time</th>\n",
       "      <th>count</th>\n",
       "    </tr>\n",
       "  </thead>\n",
       "  <tbody>\n",
       "    <tr>\n",
       "      <th>16</th>\n",
       "      <td>10-77-B0-B9-8C-17</td>\n",
       "      <td>1517767200</td>\n",
       "      <td>71</td>\n",
       "    </tr>\n",
       "    <tr>\n",
       "      <th>17</th>\n",
       "      <td>10-77-B0-B9-8C-17</td>\n",
       "      <td>1517770800</td>\n",
       "      <td>333</td>\n",
       "    </tr>\n",
       "    <tr>\n",
       "      <th>18</th>\n",
       "      <td>10-77-B0-B9-8C-17</td>\n",
       "      <td>1517788800</td>\n",
       "      <td>5</td>\n",
       "    </tr>\n",
       "    <tr>\n",
       "      <th>19</th>\n",
       "      <td>10-77-B0-B9-8C-17</td>\n",
       "      <td>1517806800</td>\n",
       "      <td>3</td>\n",
       "    </tr>\n",
       "    <tr>\n",
       "      <th>20</th>\n",
       "      <td>10-77-B0-B9-8C-17</td>\n",
       "      <td>1517810400</td>\n",
       "      <td>124</td>\n",
       "    </tr>\n",
       "  </tbody>\n",
       "</table>\n",
       "</div>"
      ],
      "text/plain": [
       "               ap_mac        time  count\n",
       "16  10-77-B0-B9-8C-17  1517767200     71\n",
       "17  10-77-B0-B9-8C-17  1517770800    333\n",
       "18  10-77-B0-B9-8C-17  1517788800      5\n",
       "19  10-77-B0-B9-8C-17  1517806800      3\n",
       "20  10-77-B0-B9-8C-17  1517810400    124"
      ]
     },
     "execution_count": 8,
     "metadata": {},
     "output_type": "execute_result"
    }
   ],
   "source": [
    "a = \"ap_mac in (\"+\",\".join([\"'\"+x+\"'\" for x in list1])+\")\"\n",
    "filted_df = df.query(a)\n",
    "filted_df.head()"
   ]
  },
  {
   "cell_type": "code",
   "execution_count": 9,
   "metadata": {},
   "outputs": [
    {
     "name": "stdout",
     "output_type": "stream",
     "text": [
      "mac-count distribute is :\n",
      "count    3345.000000\n",
      "mean      107.417638\n",
      "std       119.952746\n",
      "min         1.000000\n",
      "25%        26.000000\n",
      "50%        66.000000\n",
      "75%       145.000000\n",
      "max      1030.000000\n",
      "Name: ap_mac, dtype: float64\n"
     ]
    }
   ],
   "source": [
    "import my_util\n",
    "filted_df = my_util.filter_count(df)"
   ]
  }
 ],
 "metadata": {
  "kernelspec": {
   "display_name": "Python 3",
   "language": "python",
   "name": "python3"
  },
  "language_info": {
   "codemirror_mode": {
    "name": "ipython",
    "version": 3
   },
   "file_extension": ".py",
   "mimetype": "text/x-python",
   "name": "python",
   "nbconvert_exporter": "python",
   "pygments_lexer": "ipython3",
   "version": "3.6.1"
  }
 },
 "nbformat": 4,
 "nbformat_minor": 2
}
