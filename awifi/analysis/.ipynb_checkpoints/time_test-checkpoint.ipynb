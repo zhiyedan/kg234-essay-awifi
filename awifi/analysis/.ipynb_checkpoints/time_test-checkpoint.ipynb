{
 "cells": [
  {
   "cell_type": "code",
   "execution_count": 1,
   "metadata": {
    "collapsed": true
   },
   "outputs": [],
   "source": [
    "import numpy as np\n",
    "import matplotlib.pyplot as plt\n",
    "import math\n",
    "import pandas as pd\n",
    "from datetime import datetime\n"
   ]
  },
  {
   "cell_type": "code",
   "execution_count": null,
   "metadata": {
    "collapsed": true
   },
   "outputs": [],
   "source": [
    "def str_2_datatime(str):\n",
    "    return datetime.datetime.strptime(str,'%Y-%m-%d %H:%M:%S') "
   ]
  },
  {
   "cell_type": "code",
   "execution_count": 3,
   "metadata": {},
   "outputs": [
    {
     "name": "stdout",
     "output_type": "stream",
     "text": [
      "1520622000\n",
      "2018-03-09 19:00:00\n"
     ]
    }
   ],
   "source": [
    "test_df = pd.read_csv('../data/all_split_ts_1hour.csv')\n",
    "print(test_df.time[3])\n",
    "test_df['time'] = pd.to_datetime(test_df['time'], unit='s')\n",
    "print(test_df.time[3])"
   ]
  },
  {
   "cell_type": "code",
   "execution_count": 4,
   "metadata": {},
   "outputs": [
    {
     "data": {
      "text/plain": [
       "DatetimeIndex(['2018-03-15 00:00:00', '2018-03-15 01:00:00',\n",
       "               '2018-03-15 02:00:00', '2018-03-15 03:00:00',\n",
       "               '2018-03-15 04:00:00', '2018-03-15 05:00:00',\n",
       "               '2018-03-15 06:00:00', '2018-03-15 07:00:00',\n",
       "               '2018-03-15 08:00:00', '2018-03-15 09:00:00',\n",
       "               '2018-03-15 10:00:00', '2018-03-15 11:00:00',\n",
       "               '2018-03-15 12:00:00', '2018-03-15 13:00:00',\n",
       "               '2018-03-15 14:00:00', '2018-03-15 15:00:00',\n",
       "               '2018-03-15 16:00:00', '2018-03-15 17:00:00',\n",
       "               '2018-03-15 18:00:00', '2018-03-15 19:00:00',\n",
       "               '2018-03-15 20:00:00', '2018-03-15 21:00:00',\n",
       "               '2018-03-15 22:00:00', '2018-03-15 23:00:00',\n",
       "               '2018-03-16 00:00:00'],\n",
       "              dtype='datetime64[ns]', freq='H')"
      ]
     },
     "execution_count": 4,
     "metadata": {},
     "output_type": "execute_result"
    }
   ],
   "source": [
    "# 产生date time series 序列数据\n",
    "pd.date_range('2018/3/15','2018/3/16',freq='H')"
   ]
  },
  {
   "cell_type": "code",
   "execution_count": null,
   "metadata": {
    "collapsed": true
   },
   "outputs": [],
   "source": []
  }
 ],
 "metadata": {
  "kernelspec": {
   "display_name": "Python 3",
   "language": "python",
   "name": "python3"
  },
  "language_info": {
   "codemirror_mode": {
    "name": "ipython",
    "version": 2
   },
   "file_extension": ".py",
   "mimetype": "text/x-python",
   "name": "python",
   "nbconvert_exporter": "python",
   "pygments_lexer": "ipython2",
   "version": "2.7.13"
  }
 },
 "nbformat": 4,
 "nbformat_minor": 2
}
